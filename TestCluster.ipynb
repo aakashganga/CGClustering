{
 "cells": [
  {
   "cell_type": "code",
   "execution_count": 1,
   "metadata": {},
   "outputs": [
    {
     "data": {
      "application/javascript": [
       "IPython.notebook.set_autosave_interval(0)"
      ]
     },
     "metadata": {},
     "output_type": "display_data"
    },
    {
     "name": "stdout",
     "output_type": "stream",
     "text": [
      "Autosave disabled\n"
     ]
    }
   ],
   "source": [
    "%autosave 0"
   ]
  },
  {
   "cell_type": "code",
   "execution_count": 31,
   "metadata": {
    "ExecuteTime": {
     "end_time": "2018-03-10T16:12:38.037425Z",
     "start_time": "2018-03-10T16:12:38.025133Z"
    },
    "collapsed": true
   },
   "outputs": [],
   "source": [
    "from sklearn.cluster import KMeans\n",
    "from sklearn import datasets\n",
    "import numpy as np\n",
    "import pandas as pd\n",
    "import matplotlib.pyplot as plt\n",
    "%matplotlib inline"
   ]
  },
  {
   "cell_type": "code",
   "execution_count": 32,
   "metadata": {
    "ExecuteTime": {
     "end_time": "2018-03-10T16:12:38.048594Z",
     "start_time": "2018-03-10T16:12:38.039614Z"
    },
    "collapsed": true
   },
   "outputs": [],
   "source": [
    "revdata = pd.read_csv('revdatafortest.csv')"
   ]
  },
  {
   "cell_type": "code",
   "execution_count": 46,
   "metadata": {
    "ExecuteTime": {
     "end_time": "2018-03-10T16:20:10.749621Z",
     "start_time": "2018-03-10T16:20:10.743044Z"
    }
   },
   "outputs": [
    {
     "data": {
      "text/plain": [
       "['Beaver Accident', 'Seal Attack', 'Latte Spills', 'Marshawn Lynch Sighting']"
      ]
     },
     "execution_count": 46,
     "metadata": {},
     "output_type": "execute_result"
    }
   ],
   "source": [
    "revdata.Type.unique().tolist()"
   ]
  },
  {
   "cell_type": "code",
   "execution_count": 34,
   "metadata": {
    "ExecuteTime": {
     "end_time": "2018-03-10T16:12:38.063559Z",
     "start_time": "2018-03-10T16:12:38.057960Z"
    }
   },
   "outputs": [
    {
     "data": {
      "text/plain": [
       "(1514, 4)"
      ]
     },
     "execution_count": 34,
     "metadata": {},
     "output_type": "execute_result"
    }
   ],
   "source": [
    "revdata.shape"
   ]
  },
  {
   "cell_type": "code",
   "execution_count": 64,
   "metadata": {
    "ExecuteTime": {
     "end_time": "2018-03-10T18:32:52.469369Z",
     "start_time": "2018-03-10T18:32:52.406194Z"
    }
   },
   "outputs": [
    {
     "data": {
      "text/plain": [
       "KMeans(algorithm='auto', copy_x=True, init='k-means++', max_iter=300,\n",
       "    n_clusters=4, n_init=10, n_jobs=1, precompute_distances='auto',\n",
       "    random_state=None, tol=0.0001, verbose=0)"
      ]
     },
     "execution_count": 64,
     "metadata": {},
     "output_type": "execute_result"
    }
   ],
   "source": [
    "# centers = [[1, 1], [-1, -1], [1, -1]]\n",
    "# iris = datasets.load_iris()\n",
    "X = revdata[['Latitude','Longitude']]\n",
    "y = revdata['Type']\n",
    "\n",
    "km = KMeans(n_clusters=4,algorithm='auto')\n",
    "km.fit(X)"
   ]
  },
  {
   "cell_type": "code",
   "execution_count": 65,
   "metadata": {
    "ExecuteTime": {
     "end_time": "2018-03-10T18:32:52.600156Z",
     "start_time": "2018-03-10T18:32:52.592167Z"
    },
    "collapsed": true
   },
   "outputs": [],
   "source": [
    "labels = km.predict(revdata[['Latitude','Longitude']])\n",
    "centroids = km.cluster_centers_"
   ]
  },
  {
   "cell_type": "code",
   "execution_count": 66,
   "metadata": {
    "ExecuteTime": {
     "end_time": "2018-03-10T18:32:52.787276Z",
     "start_time": "2018-03-10T18:32:52.782626Z"
    },
    "collapsed": true
   },
   "outputs": [],
   "source": [
    "revdata['predicted'] = labels.astype('str')"
   ]
  },
  {
   "cell_type": "code",
   "execution_count": 67,
   "metadata": {
    "ExecuteTime": {
     "end_time": "2018-03-10T18:32:52.919011Z",
     "start_time": "2018-03-10T18:32:52.912822Z"
    }
   },
   "outputs": [
    {
     "data": {
      "text/plain": [
       "array(['0', '1', '3', '2'], dtype=object)"
      ]
     },
     "execution_count": 67,
     "metadata": {},
     "output_type": "execute_result"
    }
   ],
   "source": [
    "revdata['predicted'].unique()"
   ]
  },
  {
   "cell_type": "code",
   "execution_count": 73,
   "metadata": {
    "ExecuteTime": {
     "end_time": "2018-03-10T18:33:52.104612Z",
     "start_time": "2018-03-10T18:33:52.087658Z"
    }
   },
   "outputs": [
    {
     "data": {
      "text/html": [
       "<div>\n",
       "<style scoped>\n",
       "    .dataframe tbody tr th:only-of-type {\n",
       "        vertical-align: middle;\n",
       "    }\n",
       "\n",
       "    .dataframe tbody tr th {\n",
       "        vertical-align: top;\n",
       "    }\n",
       "\n",
       "    .dataframe thead th {\n",
       "        text-align: right;\n",
       "    }\n",
       "</style>\n",
       "<table border=\"1\" class=\"dataframe\">\n",
       "  <thead>\n",
       "    <tr style=\"text-align: right;\">\n",
       "      <th></th>\n",
       "      <th>Type</th>\n",
       "      <th>Latitude</th>\n",
       "      <th>Longitude</th>\n",
       "      <th>Report Location</th>\n",
       "      <th>predicted</th>\n",
       "    </tr>\n",
       "  </thead>\n",
       "  <tbody>\n",
       "    <tr>\n",
       "      <th>509</th>\n",
       "      <td>Latte Spills</td>\n",
       "      <td>47.6788</td>\n",
       "      <td>-122.400000</td>\n",
       "      <td>(47.678831947763, -122.294431915664)</td>\n",
       "      <td>0</td>\n",
       "    </tr>\n",
       "    <tr>\n",
       "      <th>510</th>\n",
       "      <td>Latte Spills</td>\n",
       "      <td>47.6999</td>\n",
       "      <td>-122.339020</td>\n",
       "      <td>(47.6999244655494, -122.343491907531)</td>\n",
       "      <td>0</td>\n",
       "    </tr>\n",
       "    <tr>\n",
       "      <th>511</th>\n",
       "      <td>Latte Spills</td>\n",
       "      <td>47.6708</td>\n",
       "      <td>-122.392010</td>\n",
       "      <td>(47.6708151419481, -122.378599026241)</td>\n",
       "      <td>0</td>\n",
       "    </tr>\n",
       "    <tr>\n",
       "      <th>512</th>\n",
       "      <td>Latte Spills</td>\n",
       "      <td>47.6711</td>\n",
       "      <td>-122.382700</td>\n",
       "      <td>(47.671120657235, -122.28922433458)</td>\n",
       "      <td>0</td>\n",
       "    </tr>\n",
       "    <tr>\n",
       "      <th>513</th>\n",
       "      <td>Latte Spills</td>\n",
       "      <td>47.6893</td>\n",
       "      <td>-122.401000</td>\n",
       "      <td>(47.6892962633831, -122.321188705969)</td>\n",
       "      <td>0</td>\n",
       "    </tr>\n",
       "    <tr>\n",
       "      <th>514</th>\n",
       "      <td>Latte Spills</td>\n",
       "      <td>47.6995</td>\n",
       "      <td>-122.279200</td>\n",
       "      <td>(47.6994690965638, -122.279156082018)</td>\n",
       "      <td>0</td>\n",
       "    </tr>\n",
       "    <tr>\n",
       "      <th>515</th>\n",
       "      <td>Latte Spills</td>\n",
       "      <td>47.6730</td>\n",
       "      <td>-122.372300</td>\n",
       "      <td>(47.6730107934767, -122.302353238215)</td>\n",
       "      <td>0</td>\n",
       "    </tr>\n",
       "    <tr>\n",
       "      <th>516</th>\n",
       "      <td>Latte Spills</td>\n",
       "      <td>47.6879</td>\n",
       "      <td>-122.365200</td>\n",
       "      <td>(47.6879148015377, -122.326157833071)</td>\n",
       "      <td>0</td>\n",
       "    </tr>\n",
       "    <tr>\n",
       "      <th>517</th>\n",
       "      <td>Latte Spills</td>\n",
       "      <td>47.6746</td>\n",
       "      <td>-122.401000</td>\n",
       "      <td>(47.674574714303, -122.309927607774)</td>\n",
       "      <td>0</td>\n",
       "    </tr>\n",
       "    <tr>\n",
       "      <th>518</th>\n",
       "      <td>Latte Spills</td>\n",
       "      <td>47.6749</td>\n",
       "      <td>-122.402700</td>\n",
       "      <td>(47.674912461372, -122.35412537558)</td>\n",
       "      <td>0</td>\n",
       "    </tr>\n",
       "    <tr>\n",
       "      <th>519</th>\n",
       "      <td>Latte Spills</td>\n",
       "      <td>47.6769</td>\n",
       "      <td>-122.407000</td>\n",
       "      <td>(47.6769092189044, -122.332276554658)</td>\n",
       "      <td>0</td>\n",
       "    </tr>\n",
       "    <tr>\n",
       "      <th>520</th>\n",
       "      <td>Latte Spills</td>\n",
       "      <td>47.6871</td>\n",
       "      <td>-122.403200</td>\n",
       "      <td>(47.6870822681255, -122.313226459301)</td>\n",
       "      <td>0</td>\n",
       "    </tr>\n",
       "    <tr>\n",
       "      <th>521</th>\n",
       "      <td>Latte Spills</td>\n",
       "      <td>47.6886</td>\n",
       "      <td>-122.403270</td>\n",
       "      <td>(47.6885904144333, -122.327002263069)</td>\n",
       "      <td>0</td>\n",
       "    </tr>\n",
       "    <tr>\n",
       "      <th>522</th>\n",
       "      <td>Latte Spills</td>\n",
       "      <td>47.6814</td>\n",
       "      <td>-122.403387</td>\n",
       "      <td>(47.6813638576912, -122.338651246043)</td>\n",
       "      <td>0</td>\n",
       "    </tr>\n",
       "    <tr>\n",
       "      <th>523</th>\n",
       "      <td>Latte Spills</td>\n",
       "      <td>47.6887</td>\n",
       "      <td>-122.403369</td>\n",
       "      <td>(47.6887004700597, -122.336885161843)</td>\n",
       "      <td>0</td>\n",
       "    </tr>\n",
       "    <tr>\n",
       "      <th>524</th>\n",
       "      <td>Latte Spills</td>\n",
       "      <td>47.6761</td>\n",
       "      <td>-122.402680</td>\n",
       "      <td>(47.6760816970444, -122.367962534497)</td>\n",
       "      <td>0</td>\n",
       "    </tr>\n",
       "    <tr>\n",
       "      <th>525</th>\n",
       "      <td>Latte Spills</td>\n",
       "      <td>47.6853</td>\n",
       "      <td>-122.407005</td>\n",
       "      <td>(47.685275056284, -122.300511199911)</td>\n",
       "      <td>0</td>\n",
       "    </tr>\n",
       "    <tr>\n",
       "      <th>526</th>\n",
       "      <td>Latte Spills</td>\n",
       "      <td>47.6764</td>\n",
       "      <td>-122.304200</td>\n",
       "      <td>(47.6764340494688, -122.304236072735)</td>\n",
       "      <td>0</td>\n",
       "    </tr>\n",
       "    <tr>\n",
       "      <th>527</th>\n",
       "      <td>Latte Spills</td>\n",
       "      <td>47.6892</td>\n",
       "      <td>-122.403485</td>\n",
       "      <td>(47.6891556486322, -122.348455027415)</td>\n",
       "      <td>0</td>\n",
       "    </tr>\n",
       "    <tr>\n",
       "      <th>528</th>\n",
       "      <td>Latte Spills</td>\n",
       "      <td>47.6720</td>\n",
       "      <td>-122.395300</td>\n",
       "      <td>(47.6719874610909, -122.315251896838)</td>\n",
       "      <td>0</td>\n",
       "    </tr>\n",
       "  </tbody>\n",
       "</table>\n",
       "</div>"
      ],
      "text/plain": [
       "             Type  Latitude   Longitude  \\\n",
       "509  Latte Spills   47.6788 -122.400000   \n",
       "510  Latte Spills   47.6999 -122.339020   \n",
       "511  Latte Spills   47.6708 -122.392010   \n",
       "512  Latte Spills   47.6711 -122.382700   \n",
       "513  Latte Spills   47.6893 -122.401000   \n",
       "514  Latte Spills   47.6995 -122.279200   \n",
       "515  Latte Spills   47.6730 -122.372300   \n",
       "516  Latte Spills   47.6879 -122.365200   \n",
       "517  Latte Spills   47.6746 -122.401000   \n",
       "518  Latte Spills   47.6749 -122.402700   \n",
       "519  Latte Spills   47.6769 -122.407000   \n",
       "520  Latte Spills   47.6871 -122.403200   \n",
       "521  Latte Spills   47.6886 -122.403270   \n",
       "522  Latte Spills   47.6814 -122.403387   \n",
       "523  Latte Spills   47.6887 -122.403369   \n",
       "524  Latte Spills   47.6761 -122.402680   \n",
       "525  Latte Spills   47.6853 -122.407005   \n",
       "526  Latte Spills   47.6764 -122.304200   \n",
       "527  Latte Spills   47.6892 -122.403485   \n",
       "528  Latte Spills   47.6720 -122.395300   \n",
       "\n",
       "                           Report Location predicted  \n",
       "509   (47.678831947763, -122.294431915664)         0  \n",
       "510  (47.6999244655494, -122.343491907531)         0  \n",
       "511  (47.6708151419481, -122.378599026241)         0  \n",
       "512    (47.671120657235, -122.28922433458)         0  \n",
       "513  (47.6892962633831, -122.321188705969)         0  \n",
       "514  (47.6994690965638, -122.279156082018)         0  \n",
       "515  (47.6730107934767, -122.302353238215)         0  \n",
       "516  (47.6879148015377, -122.326157833071)         0  \n",
       "517   (47.674574714303, -122.309927607774)         0  \n",
       "518    (47.674912461372, -122.35412537558)         0  \n",
       "519  (47.6769092189044, -122.332276554658)         0  \n",
       "520  (47.6870822681255, -122.313226459301)         0  \n",
       "521  (47.6885904144333, -122.327002263069)         0  \n",
       "522  (47.6813638576912, -122.338651246043)         0  \n",
       "523  (47.6887004700597, -122.336885161843)         0  \n",
       "524  (47.6760816970444, -122.367962534497)         0  \n",
       "525   (47.685275056284, -122.300511199911)         0  \n",
       "526  (47.6764340494688, -122.304236072735)         0  \n",
       "527  (47.6891556486322, -122.348455027415)         0  \n",
       "528  (47.6719874610909, -122.315251896838)         0  "
      ]
     },
     "execution_count": 73,
     "metadata": {},
     "output_type": "execute_result"
    }
   ],
   "source": [
    "revdata[revdata['Type']=='Latte Spills'].head(20)"
   ]
  },
  {
   "cell_type": "code",
   "execution_count": 69,
   "metadata": {
    "ExecuteTime": {
     "end_time": "2018-03-10T18:32:53.243400Z",
     "start_time": "2018-03-10T18:32:53.227683Z"
    },
    "collapsed": true
   },
   "outputs": [],
   "source": [
    "df_confusion = pd.crosstab(revdata['Type'], revdata['predicted'])"
   ]
  },
  {
   "cell_type": "code",
   "execution_count": 70,
   "metadata": {
    "ExecuteTime": {
     "end_time": "2018-03-10T18:32:54.531433Z",
     "start_time": "2018-03-10T18:32:54.520994Z"
    }
   },
   "outputs": [
    {
     "data": {
      "text/html": [
       "<div>\n",
       "<style scoped>\n",
       "    .dataframe tbody tr th:only-of-type {\n",
       "        vertical-align: middle;\n",
       "    }\n",
       "\n",
       "    .dataframe tbody tr th {\n",
       "        vertical-align: top;\n",
       "    }\n",
       "\n",
       "    .dataframe thead th {\n",
       "        text-align: right;\n",
       "    }\n",
       "</style>\n",
       "<table border=\"1\" class=\"dataframe\">\n",
       "  <thead>\n",
       "    <tr style=\"text-align: right;\">\n",
       "      <th>predicted</th>\n",
       "      <th>0</th>\n",
       "      <th>1</th>\n",
       "      <th>2</th>\n",
       "      <th>3</th>\n",
       "    </tr>\n",
       "    <tr>\n",
       "      <th>Type</th>\n",
       "      <th></th>\n",
       "      <th></th>\n",
       "      <th></th>\n",
       "      <th></th>\n",
       "    </tr>\n",
       "  </thead>\n",
       "  <tbody>\n",
       "    <tr>\n",
       "      <th>Beaver Accident</th>\n",
       "      <td>6</td>\n",
       "      <td>499</td>\n",
       "      <td>2</td>\n",
       "      <td>1</td>\n",
       "    </tr>\n",
       "    <tr>\n",
       "      <th>Latte Spills</th>\n",
       "      <td>416</td>\n",
       "      <td>0</td>\n",
       "      <td>0</td>\n",
       "      <td>0</td>\n",
       "    </tr>\n",
       "    <tr>\n",
       "      <th>Marshawn Lynch Sighting</th>\n",
       "      <td>47</td>\n",
       "      <td>0</td>\n",
       "      <td>19</td>\n",
       "      <td>258</td>\n",
       "    </tr>\n",
       "    <tr>\n",
       "      <th>Seal Attack</th>\n",
       "      <td>5</td>\n",
       "      <td>3</td>\n",
       "      <td>240</td>\n",
       "      <td>18</td>\n",
       "    </tr>\n",
       "  </tbody>\n",
       "</table>\n",
       "</div>"
      ],
      "text/plain": [
       "predicted                  0    1    2    3\n",
       "Type                                       \n",
       "Beaver Accident            6  499    2    1\n",
       "Latte Spills             416    0    0    0\n",
       "Marshawn Lynch Sighting   47    0   19  258\n",
       "Seal Attack                5    3  240   18"
      ]
     },
     "execution_count": 70,
     "metadata": {},
     "output_type": "execute_result"
    }
   ],
   "source": [
    "df_confusion"
   ]
  },
  {
   "cell_type": "code",
   "execution_count": null,
   "metadata": {
    "collapsed": true
   },
   "outputs": [],
   "source": []
  }
 ],
 "metadata": {
  "kernelspec": {
   "display_name": "Python 3",
   "language": "python",
   "name": "python3"
  },
  "language_info": {
   "codemirror_mode": {
    "name": "ipython",
    "version": 3
   },
   "file_extension": ".py",
   "mimetype": "text/x-python",
   "name": "python",
   "nbconvert_exporter": "python",
   "pygments_lexer": "ipython3",
   "version": "3.6.3"
  },
  "latex_envs": {
   "LaTeX_envs_menu_present": true,
   "autoclose": false,
   "autocomplete": true,
   "bibliofile": "biblio.bib",
   "cite_by": "apalike",
   "current_citInitial": 1,
   "eqLabelWithNumbers": true,
   "eqNumInitial": 1,
   "hotkeys": {
    "equation": "Ctrl-E",
    "itemize": "Ctrl-I"
   },
   "labels_anchors": false,
   "latex_user_defs": false,
   "report_style_numbering": false,
   "user_envs_cfg": false
  },
  "toc": {
   "nav_menu": {},
   "number_sections": true,
   "sideBar": true,
   "skip_h1_title": false,
   "title_cell": "Table of Contents",
   "title_sidebar": "Contents",
   "toc_cell": false,
   "toc_position": {},
   "toc_section_display": true,
   "toc_window_display": false
  },
  "varInspector": {
   "cols": {
    "lenName": 16,
    "lenType": 16,
    "lenVar": 40
   },
   "kernels_config": {
    "python": {
     "delete_cmd_postfix": "",
     "delete_cmd_prefix": "del ",
     "library": "var_list.py",
     "varRefreshCmd": "print(var_dic_list())"
    },
    "r": {
     "delete_cmd_postfix": ") ",
     "delete_cmd_prefix": "rm(",
     "library": "var_list.r",
     "varRefreshCmd": "cat(var_dic_list()) "
    }
   },
   "types_to_exclude": [
    "module",
    "function",
    "builtin_function_or_method",
    "instance",
    "_Feature"
   ],
   "window_display": false
  }
 },
 "nbformat": 4,
 "nbformat_minor": 2
}
